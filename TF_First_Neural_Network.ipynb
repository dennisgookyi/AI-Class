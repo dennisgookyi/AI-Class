{
 "cells": [
  {
   "cell_type": "markdown",
   "metadata": {
    "id": "8LXOB7WZMEyN"
   },
   "source": [
    "# TF First Neural Network"
   ]
  },
  {
   "cell_type": "markdown",
   "metadata": {
    "id": "O9_MLEnwMGLw"
   },
   "source": [
    "## Import Libraries"
   ]
  },
  {
   "cell_type": "code",
   "execution_count": 1,
   "metadata": {
    "colab": {
     "base_uri": "https://localhost:8080/"
    },
    "executionInfo": {
     "elapsed": 1997,
     "status": "ok",
     "timestamp": 1632333658937,
     "user": {
      "displayName": "Marcelo José Rovai",
      "photoUrl": "https://lh3.googleusercontent.com/a-/AOh14GhPvH_StPBhTERI1L0_qJsWCe1NDJFhrvdNWsZ1=s64",
      "userId": "17149450504426282540"
     },
     "user_tz": 180
    },
    "id": "QCm3x_4F8bvg",
    "outputId": "16977961-46ca-4ee3-a5a7-cda50b4d1c52"
   },
   "outputs": [
    {
     "name": "stdout",
     "output_type": "stream",
     "text": [
      "2.10.0\n"
     ]
    }
   ],
   "source": [
    "import tensorflow as tf\n",
    "import numpy as np\n",
    "\n",
    "print(tf.version.VERSION)"
   ]
  },
  {
   "cell_type": "markdown",
   "metadata": {
    "id": "TFwzjVOyMYj0"
   },
   "source": [
    "## Dataset"
   ]
  },
  {
   "cell_type": "code",
   "execution_count": 2,
   "metadata": {
    "executionInfo": {
     "elapsed": 213,
     "status": "ok",
     "timestamp": 1632333690181,
     "user": {
      "displayName": "Marcelo José Rovai",
      "photoUrl": "https://lh3.googleusercontent.com/a-/AOh14GhPvH_StPBhTERI1L0_qJsWCe1NDJFhrvdNWsZ1=s64",
      "userId": "17149450504426282540"
     },
     "user_tz": 180
    },
    "id": "o4i0p7efDX2M"
   },
   "outputs": [],
   "source": [
    "# define some training data (xs as inputs and ys as outputs)\n",
    "\n",
    "xs = np.array([-1.0,  0.0, 1.0, 2.0, 3.0, 4.0], dtype=float) \n",
    "ys = np.array([-3.0, -1.0, 1.0, 3.0, 5.0, 7.0], dtype=float)"
   ]
  },
  {
   "cell_type": "code",
   "execution_count": 3,
   "metadata": {
    "colab": {
     "base_uri": "https://localhost:8080/"
    },
    "executionInfo": {
     "elapsed": 203,
     "status": "ok",
     "timestamp": 1632333698027,
     "user": {
      "displayName": "Marcelo José Rovai",
      "photoUrl": "https://lh3.googleusercontent.com/a-/AOh14GhPvH_StPBhTERI1L0_qJsWCe1NDJFhrvdNWsZ1=s64",
      "userId": "17149450504426282540"
     },
     "user_tz": 180
    },
    "id": "B18xXBYQZAvH",
    "outputId": "e2485ecb-7045-45de-d98e-dbed5962fc98"
   },
   "outputs": [
    {
     "name": "stdout",
     "output_type": "stream",
     "text": [
      "[-1.  0.  1.  2.  3.  4.] (6,)\n",
      "[-3. -1.  1.  3.  5.  7.] (6,)\n"
     ]
    }
   ],
   "source": [
    "print(xs, xs.shape)\n",
    "print(ys, ys.shape)"
   ]
  },
  {
   "cell_type": "markdown",
   "metadata": {
    "id": "GVMr79-_MiII"
   },
   "source": [
    "## Define Model (NN Arquitecture)"
   ]
  },
  {
   "cell_type": "code",
   "execution_count": 4,
   "metadata": {
    "executionInfo": {
     "elapsed": 218,
     "status": "ok",
     "timestamp": 1632333908655,
     "user": {
      "displayName": "Marcelo José Rovai",
      "photoUrl": "https://lh3.googleusercontent.com/a-/AOh14GhPvH_StPBhTERI1L0_qJsWCe1NDJFhrvdNWsZ1=s64",
      "userId": "17149450504426282540"
     },
     "user_tz": 180
    },
    "id": "CLqOZPfC8gfb"
   },
   "outputs": [],
   "source": [
    "# define a neural network with one neuron\n",
    "# for more information on TF functions see: https://www.tensorflow.org/api_docs\n",
    "\n",
    "model = tf.keras.Sequential([tf.keras.layers.Dense( units=1, input_shape=[1])])"
   ]
  },
  {
   "cell_type": "code",
   "execution_count": 5,
   "metadata": {
    "colab": {
     "base_uri": "https://localhost:8080/"
    },
    "executionInfo": {
     "elapsed": 321,
     "status": "ok",
     "timestamp": 1632333913480,
     "user": {
      "displayName": "Marcelo José Rovai",
      "photoUrl": "https://lh3.googleusercontent.com/a-/AOh14GhPvH_StPBhTERI1L0_qJsWCe1NDJFhrvdNWsZ1=s64",
      "userId": "17149450504426282540"
     },
     "user_tz": 180
    },
    "id": "B_iL7WpMNCWp",
    "outputId": "7408876e-fae4-484e-e9d5-e17a17defbf0"
   },
   "outputs": [
    {
     "name": "stdout",
     "output_type": "stream",
     "text": [
      "Model: \"sequential\"\n",
      "_________________________________________________________________\n",
      " Layer (type)                Output Shape              Param #   \n",
      "=================================================================\n",
      " dense (Dense)               (None, 1)                 2         \n",
      "                                                                 \n",
      "=================================================================\n",
      "Total params: 2\n",
      "Trainable params: 2\n",
      "Non-trainable params: 0\n",
      "_________________________________________________________________\n"
     ]
    }
   ],
   "source": [
    "model.summary()"
   ]
  },
  {
   "cell_type": "markdown",
   "metadata": {
    "id": "4OwyFUcKO_Bf"
   },
   "source": [
    "**Default parameters' inicialization**\n",
    "- kernel_initializer ('ws') => 'glorot_uniform' (Xavier)\n",
    "- bias_initializer  ('bs') => 'zeros'"
   ]
  },
  {
   "cell_type": "markdown",
   "metadata": {
    "id": "UsF5wyWpO3fP"
   },
   "source": [
    "**Viewing initial weights (parameters)**"
   ]
  },
  {
   "cell_type": "code",
   "execution_count": 6,
   "metadata": {
    "colab": {
     "base_uri": "https://localhost:8080/"
    },
    "executionInfo": {
     "elapsed": 206,
     "status": "ok",
     "timestamp": 1632333916957,
     "user": {
      "displayName": "Marcelo José Rovai",
      "photoUrl": "https://lh3.googleusercontent.com/a-/AOh14GhPvH_StPBhTERI1L0_qJsWCe1NDJFhrvdNWsZ1=s64",
      "userId": "17149450504426282540"
     },
     "user_tz": 180
    },
    "id": "foCw7XZhNU8i",
    "outputId": "f157801e-5978-4f1b-e223-45148c2ea254"
   },
   "outputs": [
    {
     "data": {
      "text/plain": [
       "[array([[0.8751582]], dtype=float32), array([0.], dtype=float32)]"
      ]
     },
     "execution_count": 6,
     "metadata": {},
     "output_type": "execute_result"
    }
   ],
   "source": [
    "model.get_weights() # list of parameters "
   ]
  },
  {
   "cell_type": "code",
   "execution_count": 7,
   "metadata": {
    "colab": {
     "base_uri": "https://localhost:8080/"
    },
    "executionInfo": {
     "elapsed": 490,
     "status": "ok",
     "timestamp": 1632333919647,
     "user": {
      "displayName": "Marcelo José Rovai",
      "photoUrl": "https://lh3.googleusercontent.com/a-/AOh14GhPvH_StPBhTERI1L0_qJsWCe1NDJFhrvdNWsZ1=s64",
      "userId": "17149450504426282540"
     },
     "user_tz": 180
    },
    "id": "c7Z5OEcDOAEy",
    "outputId": "7b3a9bb8-b626-4935-e8b6-a8473f27a809"
   },
   "outputs": [
    {
     "name": "stdout",
     "output_type": "stream",
     "text": [
      "wi =  0.8751582\n",
      "b  =  0.0\n"
     ]
    }
   ],
   "source": [
    "print(\"wi = \", model.get_weights()[0][0][0])\n",
    "print(\"b  = \", model.get_weights()[1][0])"
   ]
  },
  {
   "cell_type": "markdown",
   "metadata": {
    "id": "SaqMbbf5Mos8"
   },
   "source": [
    "## Compile Model"
   ]
  },
  {
   "cell_type": "code",
   "execution_count": 8,
   "metadata": {
    "executionInfo": {
     "elapsed": 302,
     "status": "ok",
     "timestamp": 1632333937225,
     "user": {
      "displayName": "Marcelo José Rovai",
      "photoUrl": "https://lh3.googleusercontent.com/a-/AOh14GhPvH_StPBhTERI1L0_qJsWCe1NDJFhrvdNWsZ1=s64",
      "userId": "17149450504426282540"
     },
     "user_tz": 180
    },
    "id": "rUyEy3iMDKy3"
   },
   "outputs": [],
   "source": [
    "# use stochastic gradient descent for optimization and\n",
    "# the mean squared error loss function\n",
    "\n",
    "model.compile(optimizer='sgd', loss='mean_squared_error')"
   ]
  },
  {
   "cell_type": "code",
   "execution_count": 9,
   "metadata": {
    "executionInfo": {
     "elapsed": 216,
     "status": "ok",
     "timestamp": 1632333965243,
     "user": {
      "displayName": "Marcelo José Rovai",
      "photoUrl": "https://lh3.googleusercontent.com/a-/AOh14GhPvH_StPBhTERI1L0_qJsWCe1NDJFhrvdNWsZ1=s64",
      "userId": "17149450504426282540"
     },
     "user_tz": 180
    },
    "id": "WKNnF1lxynzI"
   },
   "outputs": [],
   "source": [
    "model.save('my_first_model_no_training.h5')"
   ]
  },
  {
   "cell_type": "code",
   "execution_count": 10,
   "metadata": {
    "colab": {
     "base_uri": "https://localhost:8080/"
    },
    "executionInfo": {
     "elapsed": 558,
     "status": "ok",
     "timestamp": 1632334093033,
     "user": {
      "displayName": "Marcelo José Rovai",
      "photoUrl": "https://lh3.googleusercontent.com/a-/AOh14GhPvH_StPBhTERI1L0_qJsWCe1NDJFhrvdNWsZ1=s64",
      "userId": "17149450504426282540"
     },
     "user_tz": 180
    },
    "id": "L98RvpdusUYf",
    "outputId": "47f8aa5e-aa50-4675-f92b-7090a62b01b0"
   },
   "outputs": [
    {
     "name": "stdout",
     "output_type": "stream",
     "text": [
      "1/1 [==============================] - 1s 781ms/step\n",
      "[[8.751582]]\n"
     ]
    }
   ],
   "source": [
    "print(model.predict([10.0]))"
   ]
  },
  {
   "cell_type": "markdown",
   "metadata": {
    "id": "Up_aZaU-zouh"
   },
   "source": [
    "Inspecting Model with [Netron](https://netron.app)"
   ]
  },
  {
   "cell_type": "markdown",
   "metadata": {
    "id": "RDHKYghlNBLh"
   },
   "source": [
    "## Training"
   ]
  },
  {
   "cell_type": "code",
   "execution_count": 11,
   "metadata": {
    "colab": {
     "base_uri": "https://localhost:8080/"
    },
    "executionInfo": {
     "elapsed": 10802,
     "status": "ok",
     "timestamp": 1632334228892,
     "user": {
      "displayName": "Marcelo José Rovai",
      "photoUrl": "https://lh3.googleusercontent.com/a-/AOh14GhPvH_StPBhTERI1L0_qJsWCe1NDJFhrvdNWsZ1=s64",
      "userId": "17149450504426282540"
     },
     "user_tz": 180
    },
    "id": "UorrgCYTETFn",
    "outputId": "632d8a9a-9755-4020-af7c-611a8ee4b5bb"
   },
   "outputs": [
    {
     "name": "stdout",
     "output_type": "stream",
     "text": [
      "Epoch 1/500\n",
      "1/1 [==============================] - 1s 858ms/step - loss: 4.1627\n",
      "Epoch 2/500\n",
      "1/1 [==============================] - 0s 6ms/step - loss: 3.4423\n",
      "Epoch 3/500\n",
      "1/1 [==============================] - 0s 8ms/step - loss: 2.8722\n",
      "Epoch 4/500\n",
      "1/1 [==============================] - 0s 8ms/step - loss: 2.4202\n",
      "Epoch 5/500\n",
      "1/1 [==============================] - 0s 8ms/step - loss: 2.0613\n",
      "Epoch 6/500\n",
      "1/1 [==============================] - 0s 6ms/step - loss: 1.7758\n",
      "Epoch 7/500\n",
      "1/1 [==============================] - 0s 5ms/step - loss: 1.5479\n",
      "Epoch 8/500\n",
      "1/1 [==============================] - 0s 6ms/step - loss: 1.3656\n",
      "Epoch 9/500\n",
      "1/1 [==============================] - 0s 7ms/step - loss: 1.2191\n",
      "Epoch 10/500\n",
      "1/1 [==============================] - 0s 7ms/step - loss: 1.1009\n",
      "Epoch 11/500\n",
      "1/1 [==============================] - 0s 6ms/step - loss: 1.0049\n",
      "Epoch 12/500\n",
      "1/1 [==============================] - 0s 5ms/step - loss: 0.9266\n",
      "Epoch 13/500\n",
      "1/1 [==============================] - 0s 7ms/step - loss: 0.8622\n",
      "Epoch 14/500\n",
      "1/1 [==============================] - 0s 6ms/step - loss: 0.8088\n",
      "Epoch 15/500\n",
      "1/1 [==============================] - 0s 9ms/step - loss: 0.7641\n",
      "Epoch 16/500\n",
      "1/1 [==============================] - 0s 7ms/step - loss: 0.7263\n",
      "Epoch 17/500\n",
      "1/1 [==============================] - 0s 7ms/step - loss: 0.6940\n",
      "Epoch 18/500\n",
      "1/1 [==============================] - 0s 6ms/step - loss: 0.6660\n",
      "Epoch 19/500\n",
      "1/1 [==============================] - 0s 8ms/step - loss: 0.6416\n",
      "Epoch 20/500\n",
      "1/1 [==============================] - 0s 8ms/step - loss: 0.6199\n",
      "Epoch 21/500\n",
      "1/1 [==============================] - 0s 5ms/step - loss: 0.6005\n",
      "Epoch 22/500\n",
      "1/1 [==============================] - 0s 6ms/step - loss: 0.5830\n",
      "Epoch 23/500\n",
      "1/1 [==============================] - 0s 6ms/step - loss: 0.5669\n",
      "Epoch 24/500\n",
      "1/1 [==============================] - 0s 7ms/step - loss: 0.5520\n",
      "Epoch 25/500\n",
      "1/1 [==============================] - 0s 8ms/step - loss: 0.5381\n",
      "Epoch 26/500\n",
      "1/1 [==============================] - 0s 5ms/step - loss: 0.5250\n",
      "Epoch 27/500\n",
      "1/1 [==============================] - 0s 7ms/step - loss: 0.5127\n",
      "Epoch 28/500\n",
      "1/1 [==============================] - 0s 7ms/step - loss: 0.5009\n",
      "Epoch 29/500\n",
      "1/1 [==============================] - 0s 5ms/step - loss: 0.4896\n",
      "Epoch 30/500\n",
      "1/1 [==============================] - 0s 9ms/step - loss: 0.4788\n",
      "Epoch 31/500\n",
      "1/1 [==============================] - 0s 6ms/step - loss: 0.4684\n",
      "Epoch 32/500\n",
      "1/1 [==============================] - 0s 7ms/step - loss: 0.4583\n",
      "Epoch 33/500\n",
      "1/1 [==============================] - 0s 7ms/step - loss: 0.4485\n",
      "Epoch 34/500\n",
      "1/1 [==============================] - 0s 6ms/step - loss: 0.4390\n",
      "Epoch 35/500\n",
      "1/1 [==============================] - 0s 6ms/step - loss: 0.4297\n",
      "Epoch 36/500\n",
      "1/1 [==============================] - 0s 4ms/step - loss: 0.4207\n",
      "Epoch 37/500\n",
      "1/1 [==============================] - 0s 5ms/step - loss: 0.4119\n",
      "Epoch 38/500\n",
      "1/1 [==============================] - 0s 5ms/step - loss: 0.4034\n",
      "Epoch 39/500\n",
      "1/1 [==============================] - 0s 6ms/step - loss: 0.3950\n",
      "Epoch 40/500\n",
      "1/1 [==============================] - 0s 6ms/step - loss: 0.3868\n",
      "Epoch 41/500\n",
      "1/1 [==============================] - 0s 8ms/step - loss: 0.3788\n",
      "Epoch 42/500\n",
      "1/1 [==============================] - 0s 5ms/step - loss: 0.3710\n",
      "Epoch 43/500\n",
      "1/1 [==============================] - 0s 7ms/step - loss: 0.3633\n",
      "Epoch 44/500\n",
      "1/1 [==============================] - 0s 6ms/step - loss: 0.3558\n",
      "Epoch 45/500\n",
      "1/1 [==============================] - 0s 7ms/step - loss: 0.3485\n",
      "Epoch 46/500\n",
      "1/1 [==============================] - 0s 7ms/step - loss: 0.3413\n",
      "Epoch 47/500\n",
      "1/1 [==============================] - 0s 6ms/step - loss: 0.3343\n",
      "Epoch 48/500\n",
      "1/1 [==============================] - 0s 7ms/step - loss: 0.3274\n",
      "Epoch 49/500\n",
      "1/1 [==============================] - 0s 7ms/step - loss: 0.3207\n",
      "Epoch 50/500\n",
      "1/1 [==============================] - 0s 6ms/step - loss: 0.3141\n",
      "Epoch 51/500\n",
      "1/1 [==============================] - 0s 7ms/step - loss: 0.3076\n",
      "Epoch 52/500\n",
      "1/1 [==============================] - 0s 6ms/step - loss: 0.3013\n",
      "Epoch 53/500\n",
      "1/1 [==============================] - 0s 6ms/step - loss: 0.2951\n",
      "Epoch 54/500\n",
      "1/1 [==============================] - 0s 6ms/step - loss: 0.2891\n",
      "Epoch 55/500\n",
      "1/1 [==============================] - 0s 6ms/step - loss: 0.2831\n",
      "Epoch 56/500\n",
      "1/1 [==============================] - 0s 6ms/step - loss: 0.2773\n",
      "Epoch 57/500\n",
      "1/1 [==============================] - 0s 7ms/step - loss: 0.2716\n",
      "Epoch 58/500\n",
      "1/1 [==============================] - 0s 6ms/step - loss: 0.2660\n",
      "Epoch 59/500\n",
      "1/1 [==============================] - 0s 7ms/step - loss: 0.2606\n",
      "Epoch 60/500\n",
      "1/1 [==============================] - 0s 7ms/step - loss: 0.2552\n",
      "Epoch 61/500\n",
      "1/1 [==============================] - 0s 7ms/step - loss: 0.2500\n",
      "Epoch 62/500\n",
      "1/1 [==============================] - 0s 6ms/step - loss: 0.2448\n",
      "Epoch 63/500\n",
      "1/1 [==============================] - 0s 8ms/step - loss: 0.2398\n",
      "Epoch 64/500\n",
      "1/1 [==============================] - 0s 5ms/step - loss: 0.2349\n",
      "Epoch 65/500\n",
      "1/1 [==============================] - 0s 6ms/step - loss: 0.2301\n",
      "Epoch 66/500\n",
      "1/1 [==============================] - 0s 6ms/step - loss: 0.2253\n",
      "Epoch 67/500\n",
      "1/1 [==============================] - 0s 6ms/step - loss: 0.2207\n",
      "Epoch 68/500\n",
      "1/1 [==============================] - 0s 7ms/step - loss: 0.2162\n",
      "Epoch 69/500\n",
      "1/1 [==============================] - 0s 6ms/step - loss: 0.2117\n",
      "Epoch 70/500\n",
      "1/1 [==============================] - 0s 6ms/step - loss: 0.2074\n",
      "Epoch 71/500\n",
      "1/1 [==============================] - 0s 5ms/step - loss: 0.2031\n",
      "Epoch 72/500\n",
      "1/1 [==============================] - 0s 5ms/step - loss: 0.1989\n",
      "Epoch 73/500\n",
      "1/1 [==============================] - 0s 6ms/step - loss: 0.1949\n",
      "Epoch 74/500\n",
      "1/1 [==============================] - 0s 5ms/step - loss: 0.1909\n",
      "Epoch 75/500\n",
      "1/1 [==============================] - 0s 7ms/step - loss: 0.1869\n",
      "Epoch 76/500\n",
      "1/1 [==============================] - 0s 5ms/step - loss: 0.1831\n",
      "Epoch 77/500\n",
      "1/1 [==============================] - 0s 8ms/step - loss: 0.1793\n",
      "Epoch 78/500\n",
      "1/1 [==============================] - 0s 8ms/step - loss: 0.1756\n",
      "Epoch 79/500\n",
      "1/1 [==============================] - 0s 7ms/step - loss: 0.1720\n",
      "Epoch 80/500\n",
      "1/1 [==============================] - 0s 7ms/step - loss: 0.1685\n",
      "Epoch 81/500\n",
      "1/1 [==============================] - 0s 6ms/step - loss: 0.1650\n",
      "Epoch 82/500\n",
      "1/1 [==============================] - 0s 6ms/step - loss: 0.1617\n",
      "Epoch 83/500\n",
      "1/1 [==============================] - 0s 6ms/step - loss: 0.1583\n",
      "Epoch 84/500\n",
      "1/1 [==============================] - 0s 5ms/step - loss: 0.1551\n",
      "Epoch 85/500\n",
      "1/1 [==============================] - 0s 10ms/step - loss: 0.1519\n",
      "Epoch 86/500\n",
      "1/1 [==============================] - 0s 6ms/step - loss: 0.1488\n",
      "Epoch 87/500\n",
      "1/1 [==============================] - 0s 7ms/step - loss: 0.1457\n",
      "Epoch 88/500\n",
      "1/1 [==============================] - 0s 6ms/step - loss: 0.1427\n",
      "Epoch 89/500\n",
      "1/1 [==============================] - 0s 6ms/step - loss: 0.1398\n",
      "Epoch 90/500\n",
      "1/1 [==============================] - 0s 6ms/step - loss: 0.1369\n",
      "Epoch 91/500\n",
      "1/1 [==============================] - 0s 7ms/step - loss: 0.1341\n",
      "Epoch 92/500\n",
      "1/1 [==============================] - 0s 6ms/step - loss: 0.1314\n",
      "Epoch 93/500\n",
      "1/1 [==============================] - 0s 6ms/step - loss: 0.1287\n",
      "Epoch 94/500\n",
      "1/1 [==============================] - 0s 6ms/step - loss: 0.1260\n",
      "Epoch 95/500\n",
      "1/1 [==============================] - 0s 5ms/step - loss: 0.1234\n",
      "Epoch 96/500\n",
      "1/1 [==============================] - 0s 34ms/step - loss: 0.1209\n",
      "Epoch 97/500\n",
      "1/1 [==============================] - 0s 7ms/step - loss: 0.1184\n",
      "Epoch 98/500\n",
      "1/1 [==============================] - 0s 9ms/step - loss: 0.1160\n",
      "Epoch 99/500\n",
      "1/1 [==============================] - 0s 7ms/step - loss: 0.1136\n",
      "Epoch 100/500\n",
      "1/1 [==============================] - 0s 8ms/step - loss: 0.1113\n",
      "Epoch 101/500\n",
      "1/1 [==============================] - 0s 6ms/step - loss: 0.1090\n",
      "Epoch 102/500\n",
      "1/1 [==============================] - 0s 7ms/step - loss: 0.1067\n",
      "Epoch 103/500\n",
      "1/1 [==============================] - 0s 7ms/step - loss: 0.1045\n",
      "Epoch 104/500\n"
     ]
    },
    {
     "name": "stdout",
     "output_type": "stream",
     "text": [
      "1/1 [==============================] - 0s 7ms/step - loss: 0.1024\n",
      "Epoch 105/500\n",
      "1/1 [==============================] - 0s 6ms/step - loss: 0.1003\n",
      "Epoch 106/500\n",
      "1/1 [==============================] - 0s 7ms/step - loss: 0.0982\n",
      "Epoch 107/500\n",
      "1/1 [==============================] - 0s 7ms/step - loss: 0.0962\n",
      "Epoch 108/500\n",
      "1/1 [==============================] - 0s 7ms/step - loss: 0.0942\n",
      "Epoch 109/500\n",
      "1/1 [==============================] - 0s 8ms/step - loss: 0.0923\n",
      "Epoch 110/500\n",
      "1/1 [==============================] - 0s 7ms/step - loss: 0.0904\n",
      "Epoch 111/500\n",
      "1/1 [==============================] - 0s 5ms/step - loss: 0.0886\n",
      "Epoch 112/500\n",
      "1/1 [==============================] - 0s 8ms/step - loss: 0.0867\n",
      "Epoch 113/500\n",
      "1/1 [==============================] - 0s 7ms/step - loss: 0.0850\n",
      "Epoch 114/500\n",
      "1/1 [==============================] - 0s 6ms/step - loss: 0.0832\n",
      "Epoch 115/500\n",
      "1/1 [==============================] - 0s 10ms/step - loss: 0.0815\n",
      "Epoch 116/500\n",
      "1/1 [==============================] - 0s 7ms/step - loss: 0.0798\n",
      "Epoch 117/500\n",
      "1/1 [==============================] - 0s 6ms/step - loss: 0.0782\n",
      "Epoch 118/500\n",
      "1/1 [==============================] - 0s 6ms/step - loss: 0.0766\n",
      "Epoch 119/500\n",
      "1/1 [==============================] - 0s 7ms/step - loss: 0.0750\n",
      "Epoch 120/500\n",
      "1/1 [==============================] - 0s 6ms/step - loss: 0.0735\n",
      "Epoch 121/500\n",
      "1/1 [==============================] - 0s 7ms/step - loss: 0.0720\n",
      "Epoch 122/500\n",
      "1/1 [==============================] - 0s 7ms/step - loss: 0.0705\n",
      "Epoch 123/500\n",
      "1/1 [==============================] - 0s 5ms/step - loss: 0.0690\n",
      "Epoch 124/500\n",
      "1/1 [==============================] - 0s 6ms/step - loss: 0.0676\n",
      "Epoch 125/500\n",
      "1/1 [==============================] - 0s 5ms/step - loss: 0.0662\n",
      "Epoch 126/500\n",
      "1/1 [==============================] - 0s 8ms/step - loss: 0.0649\n",
      "Epoch 127/500\n",
      "1/1 [==============================] - 0s 7ms/step - loss: 0.0635\n",
      "Epoch 128/500\n",
      "1/1 [==============================] - 0s 8ms/step - loss: 0.0622\n",
      "Epoch 129/500\n",
      "1/1 [==============================] - 0s 9ms/step - loss: 0.0609\n",
      "Epoch 130/500\n",
      "1/1 [==============================] - 0s 8ms/step - loss: 0.0597\n",
      "Epoch 131/500\n",
      "1/1 [==============================] - 0s 6ms/step - loss: 0.0585\n",
      "Epoch 132/500\n",
      "1/1 [==============================] - 0s 6ms/step - loss: 0.0573\n",
      "Epoch 133/500\n",
      "1/1 [==============================] - 0s 5ms/step - loss: 0.0561\n",
      "Epoch 134/500\n",
      "1/1 [==============================] - 0s 6ms/step - loss: 0.0549\n",
      "Epoch 135/500\n",
      "1/1 [==============================] - 0s 6ms/step - loss: 0.0538\n",
      "Epoch 136/500\n",
      "1/1 [==============================] - 0s 7ms/step - loss: 0.0527\n",
      "Epoch 137/500\n",
      "1/1 [==============================] - 0s 7ms/step - loss: 0.0516\n",
      "Epoch 138/500\n",
      "1/1 [==============================] - 0s 7ms/step - loss: 0.0506\n",
      "Epoch 139/500\n",
      "1/1 [==============================] - 0s 7ms/step - loss: 0.0495\n",
      "Epoch 140/500\n",
      "1/1 [==============================] - 0s 7ms/step - loss: 0.0485\n",
      "Epoch 141/500\n",
      "1/1 [==============================] - 0s 7ms/step - loss: 0.0475\n",
      "Epoch 142/500\n",
      "1/1 [==============================] - 0s 6ms/step - loss: 0.0465\n",
      "Epoch 143/500\n",
      "1/1 [==============================] - 0s 7ms/step - loss: 0.0456\n",
      "Epoch 144/500\n",
      "1/1 [==============================] - 0s 5ms/step - loss: 0.0446\n",
      "Epoch 145/500\n",
      "1/1 [==============================] - 0s 6ms/step - loss: 0.0437\n",
      "Epoch 146/500\n",
      "1/1 [==============================] - 0s 6ms/step - loss: 0.0428\n",
      "Epoch 147/500\n",
      "1/1 [==============================] - 0s 8ms/step - loss: 0.0419\n",
      "Epoch 148/500\n",
      "1/1 [==============================] - 0s 7ms/step - loss: 0.0411\n",
      "Epoch 149/500\n",
      "1/1 [==============================] - 0s 7ms/step - loss: 0.0402\n",
      "Epoch 150/500\n",
      "1/1 [==============================] - 0s 6ms/step - loss: 0.0394\n",
      "Epoch 151/500\n",
      "1/1 [==============================] - 0s 6ms/step - loss: 0.0386\n",
      "Epoch 152/500\n",
      "1/1 [==============================] - 0s 7ms/step - loss: 0.0378\n",
      "Epoch 153/500\n",
      "1/1 [==============================] - 0s 7ms/step - loss: 0.0370\n",
      "Epoch 154/500\n",
      "1/1 [==============================] - 0s 6ms/step - loss: 0.0363\n",
      "Epoch 155/500\n",
      "1/1 [==============================] - 0s 7ms/step - loss: 0.0355\n",
      "Epoch 156/500\n",
      "1/1 [==============================] - 0s 5ms/step - loss: 0.0348\n",
      "Epoch 157/500\n",
      "1/1 [==============================] - 0s 6ms/step - loss: 0.0341\n",
      "Epoch 158/500\n",
      "1/1 [==============================] - 0s 6ms/step - loss: 0.0334\n",
      "Epoch 159/500\n",
      "1/1 [==============================] - 0s 7ms/step - loss: 0.0327\n",
      "Epoch 160/500\n",
      "1/1 [==============================] - 0s 7ms/step - loss: 0.0320\n",
      "Epoch 161/500\n",
      "1/1 [==============================] - 0s 7ms/step - loss: 0.0314\n",
      "Epoch 162/500\n",
      "1/1 [==============================] - 0s 6ms/step - loss: 0.0307\n",
      "Epoch 163/500\n",
      "1/1 [==============================] - 0s 9ms/step - loss: 0.0301\n",
      "Epoch 164/500\n",
      "1/1 [==============================] - 0s 7ms/step - loss: 0.0295\n",
      "Epoch 165/500\n",
      "1/1 [==============================] - 0s 7ms/step - loss: 0.0289\n",
      "Epoch 166/500\n",
      "1/1 [==============================] - 0s 7ms/step - loss: 0.0283\n",
      "Epoch 167/500\n",
      "1/1 [==============================] - 0s 5ms/step - loss: 0.0277\n",
      "Epoch 168/500\n",
      "1/1 [==============================] - 0s 7ms/step - loss: 0.0271\n",
      "Epoch 169/500\n",
      "1/1 [==============================] - 0s 5ms/step - loss: 0.0266\n",
      "Epoch 170/500\n",
      "1/1 [==============================] - 0s 7ms/step - loss: 0.0260\n",
      "Epoch 171/500\n",
      "1/1 [==============================] - 0s 7ms/step - loss: 0.0255\n",
      "Epoch 172/500\n",
      "1/1 [==============================] - 0s 6ms/step - loss: 0.0250\n",
      "Epoch 173/500\n",
      "1/1 [==============================] - 0s 6ms/step - loss: 0.0245\n",
      "Epoch 174/500\n",
      "1/1 [==============================] - 0s 5ms/step - loss: 0.0240\n",
      "Epoch 175/500\n",
      "1/1 [==============================] - 0s 7ms/step - loss: 0.0235\n",
      "Epoch 176/500\n",
      "1/1 [==============================] - 0s 6ms/step - loss: 0.0230\n",
      "Epoch 177/500\n",
      "1/1 [==============================] - 0s 9ms/step - loss: 0.0225\n",
      "Epoch 178/500\n",
      "1/1 [==============================] - 0s 9ms/step - loss: 0.0220\n",
      "Epoch 179/500\n",
      "1/1 [==============================] - 0s 7ms/step - loss: 0.0216\n",
      "Epoch 180/500\n",
      "1/1 [==============================] - 0s 10ms/step - loss: 0.0211\n",
      "Epoch 181/500\n",
      "1/1 [==============================] - 0s 8ms/step - loss: 0.0207\n",
      "Epoch 182/500\n",
      "1/1 [==============================] - 0s 8ms/step - loss: 0.0203\n",
      "Epoch 183/500\n",
      "1/1 [==============================] - 0s 8ms/step - loss: 0.0199\n",
      "Epoch 184/500\n",
      "1/1 [==============================] - 0s 6ms/step - loss: 0.0195\n",
      "Epoch 185/500\n",
      "1/1 [==============================] - 0s 7ms/step - loss: 0.0191\n",
      "Epoch 186/500\n",
      "1/1 [==============================] - 0s 7ms/step - loss: 0.0187\n",
      "Epoch 187/500\n",
      "1/1 [==============================] - 0s 7ms/step - loss: 0.0183\n",
      "Epoch 188/500\n",
      "1/1 [==============================] - 0s 7ms/step - loss: 0.0179\n",
      "Epoch 189/500\n",
      "1/1 [==============================] - 0s 7ms/step - loss: 0.0175\n",
      "Epoch 190/500\n",
      "1/1 [==============================] - 0s 7ms/step - loss: 0.0172\n",
      "Epoch 191/500\n",
      "1/1 [==============================] - 0s 7ms/step - loss: 0.0168\n",
      "Epoch 192/500\n",
      "1/1 [==============================] - 0s 5ms/step - loss: 0.0165\n",
      "Epoch 193/500\n",
      "1/1 [==============================] - 0s 6ms/step - loss: 0.0161\n",
      "Epoch 194/500\n",
      "1/1 [==============================] - 0s 5ms/step - loss: 0.0158\n",
      "Epoch 195/500\n",
      "1/1 [==============================] - 0s 8ms/step - loss: 0.0155\n",
      "Epoch 196/500\n",
      "1/1 [==============================] - 0s 6ms/step - loss: 0.0152\n",
      "Epoch 197/500\n",
      "1/1 [==============================] - 0s 6ms/step - loss: 0.0149\n",
      "Epoch 198/500\n",
      "1/1 [==============================] - 0s 5ms/step - loss: 0.0146\n",
      "Epoch 199/500\n",
      "1/1 [==============================] - 0s 7ms/step - loss: 0.0143\n",
      "Epoch 200/500\n",
      "1/1 [==============================] - 0s 6ms/step - loss: 0.0140\n",
      "Epoch 201/500\n",
      "1/1 [==============================] - 0s 6ms/step - loss: 0.0137\n",
      "Epoch 202/500\n",
      "1/1 [==============================] - 0s 7ms/step - loss: 0.0134\n",
      "Epoch 203/500\n",
      "1/1 [==============================] - 0s 6ms/step - loss: 0.0131\n",
      "Epoch 204/500\n",
      "1/1 [==============================] - 0s 6ms/step - loss: 0.0129\n",
      "Epoch 205/500\n",
      "1/1 [==============================] - 0s 6ms/step - loss: 0.0126\n",
      "Epoch 206/500\n"
     ]
    },
    {
     "name": "stdout",
     "output_type": "stream",
     "text": [
      "1/1 [==============================] - 0s 6ms/step - loss: 0.0123\n",
      "Epoch 207/500\n",
      "1/1 [==============================] - 0s 6ms/step - loss: 0.0121\n",
      "Epoch 208/500\n",
      "1/1 [==============================] - 0s 6ms/step - loss: 0.0118\n",
      "Epoch 209/500\n",
      "1/1 [==============================] - 0s 5ms/step - loss: 0.0116\n",
      "Epoch 210/500\n",
      "1/1 [==============================] - 0s 7ms/step - loss: 0.0113\n",
      "Epoch 211/500\n",
      "1/1 [==============================] - 0s 13ms/step - loss: 0.0111\n",
      "Epoch 212/500\n",
      "1/1 [==============================] - 0s 9ms/step - loss: 0.0109\n",
      "Epoch 213/500\n",
      "1/1 [==============================] - 0s 6ms/step - loss: 0.0107\n",
      "Epoch 214/500\n",
      "1/1 [==============================] - 0s 8ms/step - loss: 0.0104\n",
      "Epoch 215/500\n",
      "1/1 [==============================] - 0s 6ms/step - loss: 0.0102\n",
      "Epoch 216/500\n",
      "1/1 [==============================] - 0s 6ms/step - loss: 0.0100\n",
      "Epoch 217/500\n",
      "1/1 [==============================] - 0s 10ms/step - loss: 0.0098\n",
      "Epoch 218/500\n",
      "1/1 [==============================] - 0s 7ms/step - loss: 0.0096\n",
      "Epoch 219/500\n",
      "1/1 [==============================] - 0s 6ms/step - loss: 0.0094\n",
      "Epoch 220/500\n",
      "1/1 [==============================] - 0s 7ms/step - loss: 0.0092\n",
      "Epoch 221/500\n",
      "1/1 [==============================] - 0s 6ms/step - loss: 0.0090\n",
      "Epoch 222/500\n",
      "1/1 [==============================] - 0s 6ms/step - loss: 0.0088\n",
      "Epoch 223/500\n",
      "1/1 [==============================] - 0s 6ms/step - loss: 0.0087\n",
      "Epoch 224/500\n",
      "1/1 [==============================] - 0s 7ms/step - loss: 0.0085\n",
      "Epoch 225/500\n",
      "1/1 [==============================] - 0s 6ms/step - loss: 0.0083\n",
      "Epoch 226/500\n",
      "1/1 [==============================] - 0s 7ms/step - loss: 0.0081\n",
      "Epoch 227/500\n",
      "1/1 [==============================] - 0s 8ms/step - loss: 0.0080\n",
      "Epoch 228/500\n",
      "1/1 [==============================] - 0s 7ms/step - loss: 0.0078\n",
      "Epoch 229/500\n",
      "1/1 [==============================] - 0s 9ms/step - loss: 0.0076\n",
      "Epoch 230/500\n",
      "1/1 [==============================] - 0s 8ms/step - loss: 0.0075\n",
      "Epoch 231/500\n",
      "1/1 [==============================] - 0s 8ms/step - loss: 0.0073\n",
      "Epoch 232/500\n",
      "1/1 [==============================] - 0s 8ms/step - loss: 0.0072\n",
      "Epoch 233/500\n",
      "1/1 [==============================] - 0s 10ms/step - loss: 0.0070\n",
      "Epoch 234/500\n",
      "1/1 [==============================] - 0s 9ms/step - loss: 0.0069\n",
      "Epoch 235/500\n",
      "1/1 [==============================] - 0s 7ms/step - loss: 0.0068\n",
      "Epoch 236/500\n",
      "1/1 [==============================] - 0s 6ms/step - loss: 0.0066\n",
      "Epoch 237/500\n",
      "1/1 [==============================] - 0s 6ms/step - loss: 0.0065\n",
      "Epoch 238/500\n",
      "1/1 [==============================] - 0s 6ms/step - loss: 0.0063\n",
      "Epoch 239/500\n",
      "1/1 [==============================] - 0s 6ms/step - loss: 0.0062\n",
      "Epoch 240/500\n",
      "1/1 [==============================] - 0s 7ms/step - loss: 0.0061\n",
      "Epoch 241/500\n",
      "1/1 [==============================] - 0s 7ms/step - loss: 0.0060\n",
      "Epoch 242/500\n",
      "1/1 [==============================] - 0s 9ms/step - loss: 0.0058\n",
      "Epoch 243/500\n",
      "1/1 [==============================] - 0s 7ms/step - loss: 0.0057\n",
      "Epoch 244/500\n",
      "1/1 [==============================] - 0s 8ms/step - loss: 0.0056\n",
      "Epoch 245/500\n",
      "1/1 [==============================] - 0s 7ms/step - loss: 0.0055\n",
      "Epoch 246/500\n",
      "1/1 [==============================] - 0s 7ms/step - loss: 0.0054\n",
      "Epoch 247/500\n",
      "1/1 [==============================] - 0s 5ms/step - loss: 0.0053\n",
      "Epoch 248/500\n",
      "1/1 [==============================] - 0s 7ms/step - loss: 0.0052\n",
      "Epoch 249/500\n",
      "1/1 [==============================] - 0s 7ms/step - loss: 0.0051\n",
      "Epoch 250/500\n",
      "1/1 [==============================] - 0s 8ms/step - loss: 0.0049\n",
      "Epoch 251/500\n",
      "1/1 [==============================] - 0s 7ms/step - loss: 0.0048\n",
      "Epoch 252/500\n",
      "1/1 [==============================] - 0s 7ms/step - loss: 0.0047\n",
      "Epoch 253/500\n",
      "1/1 [==============================] - 0s 6ms/step - loss: 0.0046\n",
      "Epoch 254/500\n",
      "1/1 [==============================] - 0s 6ms/step - loss: 0.0046\n",
      "Epoch 255/500\n",
      "1/1 [==============================] - 0s 5ms/step - loss: 0.0045\n",
      "Epoch 256/500\n",
      "1/1 [==============================] - 0s 7ms/step - loss: 0.0044\n",
      "Epoch 257/500\n",
      "1/1 [==============================] - 0s 10ms/step - loss: 0.0043\n",
      "Epoch 258/500\n",
      "1/1 [==============================] - 0s 6ms/step - loss: 0.0042\n",
      "Epoch 259/500\n",
      "1/1 [==============================] - 0s 6ms/step - loss: 0.0041\n",
      "Epoch 260/500\n",
      "1/1 [==============================] - 0s 6ms/step - loss: 0.0040\n",
      "Epoch 261/500\n",
      "1/1 [==============================] - 0s 6ms/step - loss: 0.0039\n",
      "Epoch 262/500\n",
      "1/1 [==============================] - 0s 6ms/step - loss: 0.0039\n",
      "Epoch 263/500\n",
      "1/1 [==============================] - 0s 6ms/step - loss: 0.0038\n",
      "Epoch 264/500\n",
      "1/1 [==============================] - 0s 6ms/step - loss: 0.0037\n",
      "Epoch 265/500\n",
      "1/1 [==============================] - 0s 6ms/step - loss: 0.0036\n",
      "Epoch 266/500\n",
      "1/1 [==============================] - 0s 5ms/step - loss: 0.0035\n",
      "Epoch 267/500\n",
      "1/1 [==============================] - 0s 7ms/step - loss: 0.0035\n",
      "Epoch 268/500\n",
      "1/1 [==============================] - 0s 7ms/step - loss: 0.0034\n",
      "Epoch 269/500\n",
      "1/1 [==============================] - 0s 7ms/step - loss: 0.0033\n",
      "Epoch 270/500\n",
      "1/1 [==============================] - 0s 7ms/step - loss: 0.0033\n",
      "Epoch 271/500\n",
      "1/1 [==============================] - 0s 6ms/step - loss: 0.0032\n",
      "Epoch 272/500\n",
      "1/1 [==============================] - 0s 7ms/step - loss: 0.0031\n",
      "Epoch 273/500\n",
      "1/1 [==============================] - 0s 6ms/step - loss: 0.0031\n",
      "Epoch 274/500\n",
      "1/1 [==============================] - 0s 9ms/step - loss: 0.0030\n",
      "Epoch 275/500\n",
      "1/1 [==============================] - 0s 5ms/step - loss: 0.0029\n",
      "Epoch 276/500\n",
      "1/1 [==============================] - 0s 6ms/step - loss: 0.0029\n",
      "Epoch 277/500\n",
      "1/1 [==============================] - 0s 5ms/step - loss: 0.0028\n",
      "Epoch 278/500\n",
      "1/1 [==============================] - 0s 6ms/step - loss: 0.0028\n",
      "Epoch 279/500\n",
      "1/1 [==============================] - 0s 6ms/step - loss: 0.0027\n",
      "Epoch 280/500\n",
      "1/1 [==============================] - 0s 7ms/step - loss: 0.0027\n",
      "Epoch 281/500\n",
      "1/1 [==============================] - 0s 6ms/step - loss: 0.0026\n",
      "Epoch 282/500\n",
      "1/1 [==============================] - 0s 7ms/step - loss: 0.0025\n",
      "Epoch 283/500\n",
      "1/1 [==============================] - 0s 6ms/step - loss: 0.0025\n",
      "Epoch 284/500\n",
      "1/1 [==============================] - 0s 7ms/step - loss: 0.0024\n",
      "Epoch 285/500\n",
      "1/1 [==============================] - 0s 7ms/step - loss: 0.0024\n",
      "Epoch 286/500\n",
      "1/1 [==============================] - 0s 6ms/step - loss: 0.0023\n",
      "Epoch 287/500\n",
      "1/1 [==============================] - 0s 7ms/step - loss: 0.0023\n",
      "Epoch 288/500\n",
      "1/1 [==============================] - 0s 5ms/step - loss: 0.0022\n",
      "Epoch 289/500\n",
      "1/1 [==============================] - 0s 6ms/step - loss: 0.0022\n",
      "Epoch 290/500\n",
      "1/1 [==============================] - 0s 5ms/step - loss: 0.0022\n",
      "Epoch 291/500\n",
      "1/1 [==============================] - 0s 7ms/step - loss: 0.0021\n",
      "Epoch 292/500\n",
      "1/1 [==============================] - 0s 6ms/step - loss: 0.0021\n",
      "Epoch 293/500\n",
      "1/1 [==============================] - 0s 6ms/step - loss: 0.0020\n",
      "Epoch 294/500\n",
      "1/1 [==============================] - 0s 7ms/step - loss: 0.0020\n",
      "Epoch 295/500\n",
      "1/1 [==============================] - 0s 7ms/step - loss: 0.0019\n",
      "Epoch 296/500\n",
      "1/1 [==============================] - 0s 8ms/step - loss: 0.0019\n",
      "Epoch 297/500\n",
      "1/1 [==============================] - 0s 9ms/step - loss: 0.0019\n",
      "Epoch 298/500\n",
      "1/1 [==============================] - 0s 10ms/step - loss: 0.0018\n",
      "Epoch 299/500\n",
      "1/1 [==============================] - 0s 8ms/step - loss: 0.0018\n",
      "Epoch 300/500\n",
      "1/1 [==============================] - 0s 7ms/step - loss: 0.0018\n",
      "Epoch 301/500\n",
      "1/1 [==============================] - 0s 7ms/step - loss: 0.0017\n",
      "Epoch 302/500\n",
      "1/1 [==============================] - 0s 7ms/step - loss: 0.0017\n",
      "Epoch 303/500\n",
      "1/1 [==============================] - 0s 6ms/step - loss: 0.0016\n",
      "Epoch 304/500\n",
      "1/1 [==============================] - 0s 6ms/step - loss: 0.0016\n",
      "Epoch 305/500\n",
      "1/1 [==============================] - 0s 9ms/step - loss: 0.0016\n",
      "Epoch 306/500\n",
      "1/1 [==============================] - 0s 6ms/step - loss: 0.0015\n",
      "Epoch 307/500\n",
      "1/1 [==============================] - 0s 9ms/step - loss: 0.0015\n",
      "Epoch 308/500\n"
     ]
    },
    {
     "name": "stdout",
     "output_type": "stream",
     "text": [
      "1/1 [==============================] - 0s 5ms/step - loss: 0.0015\n",
      "Epoch 309/500\n",
      "1/1 [==============================] - 0s 6ms/step - loss: 0.0015\n",
      "Epoch 310/500\n",
      "1/1 [==============================] - 0s 7ms/step - loss: 0.0014\n",
      "Epoch 311/500\n",
      "1/1 [==============================] - 0s 6ms/step - loss: 0.0014\n",
      "Epoch 312/500\n",
      "1/1 [==============================] - 0s 7ms/step - loss: 0.0014\n",
      "Epoch 313/500\n",
      "1/1 [==============================] - 0s 6ms/step - loss: 0.0013\n",
      "Epoch 314/500\n",
      "1/1 [==============================] - 0s 6ms/step - loss: 0.0013\n",
      "Epoch 315/500\n",
      "1/1 [==============================] - 0s 7ms/step - loss: 0.0013\n",
      "Epoch 316/500\n",
      "1/1 [==============================] - 0s 9ms/step - loss: 0.0013\n",
      "Epoch 317/500\n",
      "1/1 [==============================] - 0s 7ms/step - loss: 0.0012\n",
      "Epoch 318/500\n",
      "1/1 [==============================] - 0s 8ms/step - loss: 0.0012\n",
      "Epoch 319/500\n",
      "1/1 [==============================] - 0s 4ms/step - loss: 0.0012\n",
      "Epoch 320/500\n",
      "1/1 [==============================] - 0s 6ms/step - loss: 0.0012\n",
      "Epoch 321/500\n",
      "1/1 [==============================] - 0s 7ms/step - loss: 0.0011\n",
      "Epoch 322/500\n",
      "1/1 [==============================] - 0s 8ms/step - loss: 0.0011\n",
      "Epoch 323/500\n",
      "1/1 [==============================] - 0s 5ms/step - loss: 0.0011\n",
      "Epoch 324/500\n",
      "1/1 [==============================] - 0s 6ms/step - loss: 0.0011\n",
      "Epoch 325/500\n",
      "1/1 [==============================] - 0s 6ms/step - loss: 0.0010\n",
      "Epoch 326/500\n",
      "1/1 [==============================] - 0s 5ms/step - loss: 0.0010\n",
      "Epoch 327/500\n",
      "1/1 [==============================] - 0s 6ms/step - loss: 0.0010\n",
      "Epoch 328/500\n",
      "1/1 [==============================] - 0s 7ms/step - loss: 9.8007e-04\n",
      "Epoch 329/500\n",
      "1/1 [==============================] - 0s 7ms/step - loss: 9.5994e-04\n",
      "Epoch 330/500\n",
      "1/1 [==============================] - 0s 8ms/step - loss: 9.4022e-04\n",
      "Epoch 331/500\n",
      "1/1 [==============================] - 0s 8ms/step - loss: 9.2090e-04\n",
      "Epoch 332/500\n",
      "1/1 [==============================] - 0s 7ms/step - loss: 9.0199e-04\n",
      "Epoch 333/500\n",
      "1/1 [==============================] - 0s 6ms/step - loss: 8.8346e-04\n",
      "Epoch 334/500\n",
      "1/1 [==============================] - 0s 7ms/step - loss: 8.6531e-04\n",
      "Epoch 335/500\n",
      "1/1 [==============================] - 0s 5ms/step - loss: 8.4754e-04\n",
      "Epoch 336/500\n",
      "1/1 [==============================] - 0s 8ms/step - loss: 8.3013e-04\n",
      "Epoch 337/500\n",
      "1/1 [==============================] - 0s 6ms/step - loss: 8.1308e-04\n",
      "Epoch 338/500\n",
      "1/1 [==============================] - 0s 6ms/step - loss: 7.9638e-04\n",
      "Epoch 339/500\n",
      "1/1 [==============================] - 0s 5ms/step - loss: 7.8002e-04\n",
      "Epoch 340/500\n",
      "1/1 [==============================] - 0s 6ms/step - loss: 7.6400e-04\n",
      "Epoch 341/500\n",
      "1/1 [==============================] - 0s 6ms/step - loss: 7.4830e-04\n",
      "Epoch 342/500\n",
      "1/1 [==============================] - 0s 8ms/step - loss: 7.3293e-04\n",
      "Epoch 343/500\n",
      "1/1 [==============================] - 0s 9ms/step - loss: 7.1788e-04\n",
      "Epoch 344/500\n",
      "1/1 [==============================] - 0s 6ms/step - loss: 7.0314e-04\n",
      "Epoch 345/500\n",
      "1/1 [==============================] - 0s 8ms/step - loss: 6.8870e-04\n",
      "Epoch 346/500\n",
      "1/1 [==============================] - 0s 7ms/step - loss: 6.7455e-04\n",
      "Epoch 347/500\n",
      "1/1 [==============================] - 0s 6ms/step - loss: 6.6069e-04\n",
      "Epoch 348/500\n",
      "1/1 [==============================] - 0s 7ms/step - loss: 6.4712e-04\n",
      "Epoch 349/500\n",
      "1/1 [==============================] - 0s 6ms/step - loss: 6.3383e-04\n",
      "Epoch 350/500\n",
      "1/1 [==============================] - 0s 6ms/step - loss: 6.2081e-04\n",
      "Epoch 351/500\n",
      "1/1 [==============================] - 0s 5ms/step - loss: 6.0806e-04\n",
      "Epoch 352/500\n",
      "1/1 [==============================] - 0s 7ms/step - loss: 5.9557e-04\n",
      "Epoch 353/500\n",
      "1/1 [==============================] - 0s 9ms/step - loss: 5.8334e-04\n",
      "Epoch 354/500\n",
      "1/1 [==============================] - 0s 8ms/step - loss: 5.7135e-04\n",
      "Epoch 355/500\n",
      "1/1 [==============================] - 0s 6ms/step - loss: 5.5962e-04\n",
      "Epoch 356/500\n",
      "1/1 [==============================] - 0s 7ms/step - loss: 5.4812e-04\n",
      "Epoch 357/500\n",
      "1/1 [==============================] - 0s 5ms/step - loss: 5.3687e-04\n",
      "Epoch 358/500\n",
      "1/1 [==============================] - 0s 6ms/step - loss: 5.2584e-04\n",
      "Epoch 359/500\n",
      "1/1 [==============================] - 0s 6ms/step - loss: 5.1504e-04\n",
      "Epoch 360/500\n",
      "1/1 [==============================] - 0s 7ms/step - loss: 5.0446e-04\n",
      "Epoch 361/500\n",
      "1/1 [==============================] - 0s 6ms/step - loss: 4.9410e-04\n",
      "Epoch 362/500\n",
      "1/1 [==============================] - 0s 6ms/step - loss: 4.8395e-04\n",
      "Epoch 363/500\n",
      "1/1 [==============================] - 0s 5ms/step - loss: 4.7401e-04\n",
      "Epoch 364/500\n",
      "1/1 [==============================] - 0s 6ms/step - loss: 4.6427e-04\n",
      "Epoch 365/500\n",
      "1/1 [==============================] - 0s 6ms/step - loss: 4.5473e-04\n",
      "Epoch 366/500\n",
      "1/1 [==============================] - 0s 6ms/step - loss: 4.4539e-04\n",
      "Epoch 367/500\n",
      "1/1 [==============================] - 0s 6ms/step - loss: 4.3624e-04\n",
      "Epoch 368/500\n",
      "1/1 [==============================] - 0s 7ms/step - loss: 4.2728e-04\n",
      "Epoch 369/500\n",
      "1/1 [==============================] - 0s 7ms/step - loss: 4.1850e-04\n",
      "Epoch 370/500\n",
      "1/1 [==============================] - 0s 8ms/step - loss: 4.0991e-04\n",
      "Epoch 371/500\n",
      "1/1 [==============================] - 0s 7ms/step - loss: 4.0149e-04\n",
      "Epoch 372/500\n",
      "1/1 [==============================] - 0s 7ms/step - loss: 3.9324e-04\n",
      "Epoch 373/500\n",
      "1/1 [==============================] - 0s 7ms/step - loss: 3.8516e-04\n",
      "Epoch 374/500\n",
      "1/1 [==============================] - 0s 7ms/step - loss: 3.7725e-04\n",
      "Epoch 375/500\n",
      "1/1 [==============================] - 0s 5ms/step - loss: 3.6950e-04\n",
      "Epoch 376/500\n",
      "1/1 [==============================] - 0s 7ms/step - loss: 3.6191e-04\n",
      "Epoch 377/500\n",
      "1/1 [==============================] - 0s 6ms/step - loss: 3.5448e-04\n",
      "Epoch 378/500\n",
      "1/1 [==============================] - 0s 7ms/step - loss: 3.4720e-04\n",
      "Epoch 379/500\n",
      "1/1 [==============================] - 0s 7ms/step - loss: 3.4007e-04\n",
      "Epoch 380/500\n",
      "1/1 [==============================] - 0s 9ms/step - loss: 3.3308e-04\n",
      "Epoch 381/500\n",
      "1/1 [==============================] - 0s 9ms/step - loss: 3.2624e-04\n",
      "Epoch 382/500\n",
      "1/1 [==============================] - 0s 5ms/step - loss: 3.1954e-04\n",
      "Epoch 383/500\n",
      "1/1 [==============================] - 0s 5ms/step - loss: 3.1298e-04\n",
      "Epoch 384/500\n",
      "1/1 [==============================] - 0s 6ms/step - loss: 3.0655e-04\n",
      "Epoch 385/500\n",
      "1/1 [==============================] - 0s 5ms/step - loss: 3.0025e-04\n",
      "Epoch 386/500\n",
      "1/1 [==============================] - 0s 5ms/step - loss: 2.9408e-04\n",
      "Epoch 387/500\n",
      "1/1 [==============================] - 0s 10ms/step - loss: 2.8804e-04\n",
      "Epoch 388/500\n",
      "1/1 [==============================] - 0s 7ms/step - loss: 2.8212e-04\n",
      "Epoch 389/500\n",
      "1/1 [==============================] - 0s 6ms/step - loss: 2.7633e-04\n",
      "Epoch 390/500\n",
      "1/1 [==============================] - 0s 6ms/step - loss: 2.7065e-04\n",
      "Epoch 391/500\n",
      "1/1 [==============================] - 0s 6ms/step - loss: 2.6509e-04\n",
      "Epoch 392/500\n",
      "1/1 [==============================] - 0s 6ms/step - loss: 2.5965e-04\n",
      "Epoch 393/500\n",
      "1/1 [==============================] - 0s 6ms/step - loss: 2.5431e-04\n",
      "Epoch 394/500\n",
      "1/1 [==============================] - 0s 7ms/step - loss: 2.4909e-04\n",
      "Epoch 395/500\n",
      "1/1 [==============================] - 0s 6ms/step - loss: 2.4397e-04\n",
      "Epoch 396/500\n",
      "1/1 [==============================] - 0s 7ms/step - loss: 2.3896e-04\n",
      "Epoch 397/500\n",
      "1/1 [==============================] - 0s 7ms/step - loss: 2.3405e-04\n",
      "Epoch 398/500\n",
      "1/1 [==============================] - 0s 8ms/step - loss: 2.2925e-04\n",
      "Epoch 399/500\n",
      "1/1 [==============================] - 0s 8ms/step - loss: 2.2454e-04\n",
      "Epoch 400/500\n",
      "1/1 [==============================] - 0s 7ms/step - loss: 2.1993e-04\n",
      "Epoch 401/500\n",
      "1/1 [==============================] - 0s 6ms/step - loss: 2.1541e-04\n",
      "Epoch 402/500\n",
      "1/1 [==============================] - 0s 5ms/step - loss: 2.1098e-04\n",
      "Epoch 403/500\n",
      "1/1 [==============================] - 0s 9ms/step - loss: 2.0665e-04\n",
      "Epoch 404/500\n",
      "1/1 [==============================] - 0s 7ms/step - loss: 2.0241e-04\n",
      "Epoch 405/500\n",
      "1/1 [==============================] - 0s 7ms/step - loss: 1.9825e-04\n",
      "Epoch 406/500\n"
     ]
    },
    {
     "name": "stdout",
     "output_type": "stream",
     "text": [
      "1/1 [==============================] - 0s 6ms/step - loss: 1.9418e-04\n",
      "Epoch 407/500\n",
      "1/1 [==============================] - 0s 6ms/step - loss: 1.9019e-04\n",
      "Epoch 408/500\n",
      "1/1 [==============================] - 0s 8ms/step - loss: 1.8628e-04\n",
      "Epoch 409/500\n",
      "1/1 [==============================] - 0s 6ms/step - loss: 1.8245e-04\n",
      "Epoch 410/500\n",
      "1/1 [==============================] - 0s 7ms/step - loss: 1.7871e-04\n",
      "Epoch 411/500\n",
      "1/1 [==============================] - 0s 7ms/step - loss: 1.7504e-04\n",
      "Epoch 412/500\n",
      "1/1 [==============================] - 0s 6ms/step - loss: 1.7144e-04\n",
      "Epoch 413/500\n",
      "1/1 [==============================] - 0s 6ms/step - loss: 1.6792e-04\n",
      "Epoch 414/500\n",
      "1/1 [==============================] - 0s 6ms/step - loss: 1.6447e-04\n",
      "Epoch 415/500\n",
      "1/1 [==============================] - 0s 6ms/step - loss: 1.6109e-04\n",
      "Epoch 416/500\n",
      "1/1 [==============================] - 0s 7ms/step - loss: 1.5778e-04\n",
      "Epoch 417/500\n",
      "1/1 [==============================] - 0s 8ms/step - loss: 1.5454e-04\n",
      "Epoch 418/500\n",
      "1/1 [==============================] - 0s 7ms/step - loss: 1.5137e-04\n",
      "Epoch 419/500\n",
      "1/1 [==============================] - 0s 7ms/step - loss: 1.4826e-04\n",
      "Epoch 420/500\n",
      "1/1 [==============================] - 0s 8ms/step - loss: 1.4521e-04\n",
      "Epoch 421/500\n",
      "1/1 [==============================] - 0s 5ms/step - loss: 1.4223e-04\n",
      "Epoch 422/500\n",
      "1/1 [==============================] - 0s 7ms/step - loss: 1.3931e-04\n",
      "Epoch 423/500\n",
      "1/1 [==============================] - 0s 6ms/step - loss: 1.3645e-04\n",
      "Epoch 424/500\n",
      "1/1 [==============================] - 0s 6ms/step - loss: 1.3365e-04\n",
      "Epoch 425/500\n",
      "1/1 [==============================] - 0s 5ms/step - loss: 1.3090e-04\n",
      "Epoch 426/500\n",
      "1/1 [==============================] - 0s 6ms/step - loss: 1.2821e-04\n",
      "Epoch 427/500\n",
      "1/1 [==============================] - 0s 6ms/step - loss: 1.2558e-04\n",
      "Epoch 428/500\n",
      "1/1 [==============================] - 0s 7ms/step - loss: 1.2300e-04\n",
      "Epoch 429/500\n",
      "1/1 [==============================] - 0s 7ms/step - loss: 1.2047e-04\n",
      "Epoch 430/500\n",
      "1/1 [==============================] - 0s 5ms/step - loss: 1.1800e-04\n",
      "Epoch 431/500\n",
      "1/1 [==============================] - 0s 7ms/step - loss: 1.1557e-04\n",
      "Epoch 432/500\n",
      "1/1 [==============================] - 0s 7ms/step - loss: 1.1320e-04\n",
      "Epoch 433/500\n",
      "1/1 [==============================] - 0s 6ms/step - loss: 1.1088e-04\n",
      "Epoch 434/500\n",
      "1/1 [==============================] - 0s 5ms/step - loss: 1.0860e-04\n",
      "Epoch 435/500\n",
      "1/1 [==============================] - 0s 7ms/step - loss: 1.0637e-04\n",
      "Epoch 436/500\n",
      "1/1 [==============================] - 0s 7ms/step - loss: 1.0418e-04\n",
      "Epoch 437/500\n",
      "1/1 [==============================] - 0s 8ms/step - loss: 1.0204e-04\n",
      "Epoch 438/500\n",
      "1/1 [==============================] - 0s 7ms/step - loss: 9.9945e-05\n",
      "Epoch 439/500\n",
      "1/1 [==============================] - 0s 6ms/step - loss: 9.7893e-05\n",
      "Epoch 440/500\n",
      "1/1 [==============================] - 0s 7ms/step - loss: 9.5881e-05\n",
      "Epoch 441/500\n",
      "1/1 [==============================] - 0s 9ms/step - loss: 9.3913e-05\n",
      "Epoch 442/500\n",
      "1/1 [==============================] - 0s 7ms/step - loss: 9.1982e-05\n",
      "Epoch 443/500\n",
      "1/1 [==============================] - 0s 9ms/step - loss: 9.0092e-05\n",
      "Epoch 444/500\n",
      "1/1 [==============================] - 0s 6ms/step - loss: 8.8242e-05\n",
      "Epoch 445/500\n",
      "1/1 [==============================] - 0s 8ms/step - loss: 8.6431e-05\n",
      "Epoch 446/500\n",
      "1/1 [==============================] - 0s 9ms/step - loss: 8.4654e-05\n",
      "Epoch 447/500\n",
      "1/1 [==============================] - 0s 8ms/step - loss: 8.2917e-05\n",
      "Epoch 448/500\n",
      "1/1 [==============================] - 0s 6ms/step - loss: 8.1213e-05\n",
      "Epoch 449/500\n",
      "1/1 [==============================] - 0s 6ms/step - loss: 7.9544e-05\n",
      "Epoch 450/500\n",
      "1/1 [==============================] - 0s 7ms/step - loss: 7.7911e-05\n",
      "Epoch 451/500\n",
      "1/1 [==============================] - 0s 6ms/step - loss: 7.6310e-05\n",
      "Epoch 452/500\n",
      "1/1 [==============================] - 0s 8ms/step - loss: 7.4744e-05\n",
      "Epoch 453/500\n",
      "1/1 [==============================] - 0s 7ms/step - loss: 7.3209e-05\n",
      "Epoch 454/500\n",
      "1/1 [==============================] - 0s 6ms/step - loss: 7.1703e-05\n",
      "Epoch 455/500\n",
      "1/1 [==============================] - 0s 7ms/step - loss: 7.0231e-05\n",
      "Epoch 456/500\n",
      "1/1 [==============================] - 0s 6ms/step - loss: 6.8788e-05\n",
      "Epoch 457/500\n",
      "1/1 [==============================] - 0s 7ms/step - loss: 6.7375e-05\n",
      "Epoch 458/500\n",
      "1/1 [==============================] - 0s 7ms/step - loss: 6.5991e-05\n",
      "Epoch 459/500\n",
      "1/1 [==============================] - 0s 7ms/step - loss: 6.4635e-05\n",
      "Epoch 460/500\n",
      "1/1 [==============================] - 0s 6ms/step - loss: 6.3309e-05\n",
      "Epoch 461/500\n",
      "1/1 [==============================] - 0s 7ms/step - loss: 6.2007e-05\n",
      "Epoch 462/500\n",
      "1/1 [==============================] - 0s 6ms/step - loss: 6.0734e-05\n",
      "Epoch 463/500\n",
      "1/1 [==============================] - 0s 6ms/step - loss: 5.9487e-05\n",
      "Epoch 464/500\n",
      "1/1 [==============================] - 0s 7ms/step - loss: 5.8265e-05\n",
      "Epoch 465/500\n",
      "1/1 [==============================] - 0s 8ms/step - loss: 5.7069e-05\n",
      "Epoch 466/500\n",
      "1/1 [==============================] - 0s 6ms/step - loss: 5.5896e-05\n",
      "Epoch 467/500\n",
      "1/1 [==============================] - 0s 9ms/step - loss: 5.4748e-05\n",
      "Epoch 468/500\n",
      "1/1 [==============================] - 0s 5ms/step - loss: 5.3623e-05\n",
      "Epoch 469/500\n",
      "1/1 [==============================] - 0s 7ms/step - loss: 5.2522e-05\n",
      "Epoch 470/500\n",
      "1/1 [==============================] - 0s 6ms/step - loss: 5.1443e-05\n",
      "Epoch 471/500\n",
      "1/1 [==============================] - 0s 7ms/step - loss: 5.0387e-05\n",
      "Epoch 472/500\n",
      "1/1 [==============================] - 0s 5ms/step - loss: 4.9351e-05\n",
      "Epoch 473/500\n",
      "1/1 [==============================] - 0s 7ms/step - loss: 4.8337e-05\n",
      "Epoch 474/500\n",
      "1/1 [==============================] - 0s 5ms/step - loss: 4.7345e-05\n",
      "Epoch 475/500\n",
      "1/1 [==============================] - 0s 8ms/step - loss: 4.6371e-05\n",
      "Epoch 476/500\n",
      "1/1 [==============================] - 0s 8ms/step - loss: 4.5419e-05\n",
      "Epoch 477/500\n",
      "1/1 [==============================] - 0s 6ms/step - loss: 4.4487e-05\n",
      "Epoch 478/500\n",
      "1/1 [==============================] - 0s 7ms/step - loss: 4.3573e-05\n",
      "Epoch 479/500\n",
      "1/1 [==============================] - 0s 6ms/step - loss: 4.2678e-05\n",
      "Epoch 480/500\n",
      "1/1 [==============================] - 0s 6ms/step - loss: 4.1800e-05\n",
      "Epoch 481/500\n",
      "1/1 [==============================] - 0s 6ms/step - loss: 4.0942e-05\n",
      "Epoch 482/500\n",
      "1/1 [==============================] - 0s 8ms/step - loss: 4.0102e-05\n",
      "Epoch 483/500\n",
      "1/1 [==============================] - 0s 8ms/step - loss: 3.9277e-05\n",
      "Epoch 484/500\n",
      "1/1 [==============================] - 0s 6ms/step - loss: 3.8471e-05\n",
      "Epoch 485/500\n",
      "1/1 [==============================] - 0s 6ms/step - loss: 3.7681e-05\n",
      "Epoch 486/500\n",
      "1/1 [==============================] - 0s 6ms/step - loss: 3.6907e-05\n",
      "Epoch 487/500\n",
      "1/1 [==============================] - 0s 6ms/step - loss: 3.6148e-05\n",
      "Epoch 488/500\n",
      "1/1 [==============================] - 0s 6ms/step - loss: 3.5406e-05\n",
      "Epoch 489/500\n",
      "1/1 [==============================] - 0s 6ms/step - loss: 3.4679e-05\n",
      "Epoch 490/500\n",
      "1/1 [==============================] - 0s 6ms/step - loss: 3.3967e-05\n",
      "Epoch 491/500\n",
      "1/1 [==============================] - 0s 8ms/step - loss: 3.3269e-05\n",
      "Epoch 492/500\n",
      "1/1 [==============================] - 0s 11ms/step - loss: 3.2587e-05\n",
      "Epoch 493/500\n",
      "1/1 [==============================] - 0s 7ms/step - loss: 3.1917e-05\n",
      "Epoch 494/500\n",
      "1/1 [==============================] - 0s 7ms/step - loss: 3.1262e-05\n",
      "Epoch 495/500\n",
      "1/1 [==============================] - 0s 9ms/step - loss: 3.0619e-05\n",
      "Epoch 496/500\n",
      "1/1 [==============================] - 0s 6ms/step - loss: 2.9991e-05\n",
      "Epoch 497/500\n",
      "1/1 [==============================] - 0s 8ms/step - loss: 2.9375e-05\n",
      "Epoch 498/500\n",
      "1/1 [==============================] - 0s 8ms/step - loss: 2.8772e-05\n",
      "Epoch 499/500\n",
      "1/1 [==============================] - 0s 6ms/step - loss: 2.8181e-05\n",
      "Epoch 500/500\n",
      "1/1 [==============================] - 0s 7ms/step - loss: 2.7602e-05\n"
     ]
    }
   ],
   "source": [
    "# fit the model to the data (aka train the model)\n",
    "\n",
    "history = model.fit(xs, ys, epochs=500)"
   ]
  },
  {
   "cell_type": "markdown",
   "metadata": {
    "id": "93itssi3PgsX"
   },
   "source": [
    "Inspect model"
   ]
  },
  {
   "cell_type": "code",
   "execution_count": 12,
   "metadata": {
    "colab": {
     "base_uri": "https://localhost:8080/"
    },
    "executionInfo": {
     "elapsed": 339,
     "status": "ok",
     "timestamp": 1632334467112,
     "user": {
      "displayName": "Marcelo José Rovai",
      "photoUrl": "https://lh3.googleusercontent.com/a-/AOh14GhPvH_StPBhTERI1L0_qJsWCe1NDJFhrvdNWsZ1=s64",
      "userId": "17149450504426282540"
     },
     "user_tz": 180
    },
    "id": "Knk6L2pzPjo_",
    "outputId": "4ff9b70b-afb8-487f-abbf-af0d5a58c584"
   },
   "outputs": [
    {
     "name": "stdout",
     "output_type": "stream",
     "text": [
      "wi =  1.9977783\n",
      "b  =  -0.9931124\n"
     ]
    }
   ],
   "source": [
    "print(\"wi = \", model.get_weights()[0][0][0])\n",
    "print(\"b  = \", model.get_weights()[1][0])"
   ]
  },
  {
   "cell_type": "code",
   "execution_count": 13,
   "metadata": {
    "executionInfo": {
     "elapsed": 212,
     "status": "ok",
     "timestamp": 1632334506959,
     "user": {
      "displayName": "Marcelo José Rovai",
      "photoUrl": "https://lh3.googleusercontent.com/a-/AOh14GhPvH_StPBhTERI1L0_qJsWCe1NDJFhrvdNWsZ1=s64",
      "userId": "17149450504426282540"
     },
     "user_tz": 180
    },
    "id": "9od0MhXAXA5Z"
   },
   "outputs": [],
   "source": [
    "# Saving the trained model\n",
    "model.save('my_first_model_trained.h5')"
   ]
  },
  {
   "cell_type": "markdown",
   "metadata": {
    "id": "_oli3anGPV4z"
   },
   "source": [
    "## Test model"
   ]
  },
  {
   "cell_type": "code",
   "execution_count": 14,
   "metadata": {
    "colab": {
     "base_uri": "https://localhost:8080/"
    },
    "executionInfo": {
     "elapsed": 239,
     "status": "ok",
     "timestamp": 1632334646576,
     "user": {
      "displayName": "Marcelo José Rovai",
      "photoUrl": "https://lh3.googleusercontent.com/a-/AOh14GhPvH_StPBhTERI1L0_qJsWCe1NDJFhrvdNWsZ1=s64",
      "userId": "17149450504426282540"
     },
     "user_tz": 180
    },
    "id": "nidfsvPCEWlE",
    "outputId": "7e6b9623-11f1-4ec3-e3ef-8d7ca9bf2e7f"
   },
   "outputs": [
    {
     "name": "stdout",
     "output_type": "stream",
     "text": [
      "1/1 [==============================] - 0s 52ms/step\n",
      "[[18.98467]]\n"
     ]
    }
   ],
   "source": [
    "# Predict the output of a new data (Inference)\n",
    "\n",
    "print(model.predict([10.0]))"
   ]
  },
  {
   "cell_type": "code",
   "execution_count": 15,
   "metadata": {
    "colab": {
     "base_uri": "https://localhost:8080/"
    },
    "executionInfo": {
     "elapsed": 319,
     "status": "ok",
     "timestamp": 1632334997976,
     "user": {
      "displayName": "Marcelo José Rovai",
      "photoUrl": "https://lh3.googleusercontent.com/a-/AOh14GhPvH_StPBhTERI1L0_qJsWCe1NDJFhrvdNWsZ1=s64",
      "userId": "17149450504426282540"
     },
     "user_tz": 180
    },
    "id": "FU9DgCReU01e",
    "outputId": "2b6bc781-9a48-4391-97f9-c975e2a2b03b"
   },
   "outputs": [
    {
     "data": {
      "text/plain": [
       "dict"
      ]
     },
     "execution_count": 15,
     "metadata": {},
     "output_type": "execute_result"
    }
   ],
   "source": [
    "type(history.history)"
   ]
  },
  {
   "cell_type": "code",
   "execution_count": 16,
   "metadata": {
    "colab": {
     "base_uri": "https://localhost:8080/"
    },
    "executionInfo": {
     "elapsed": 266,
     "status": "ok",
     "timestamp": 1632335004102,
     "user": {
      "displayName": "Marcelo José Rovai",
      "photoUrl": "https://lh3.googleusercontent.com/a-/AOh14GhPvH_StPBhTERI1L0_qJsWCe1NDJFhrvdNWsZ1=s64",
      "userId": "17149450504426282540"
     },
     "user_tz": 180
    },
    "id": "z83TiMLeU8hk",
    "outputId": "d7625e92-9067-4b8f-e511-7731a0f8ee46"
   },
   "outputs": [
    {
     "data": {
      "text/plain": [
       "dict_keys(['loss'])"
      ]
     },
     "execution_count": 16,
     "metadata": {},
     "output_type": "execute_result"
    }
   ],
   "source": [
    "history.history.keys()"
   ]
  },
  {
   "cell_type": "code",
   "execution_count": 1,
   "metadata": {
    "colab": {
     "base_uri": "https://localhost:8080/",
     "height": 295
    },
    "executionInfo": {
     "elapsed": 226,
     "status": "ok",
     "timestamp": 1632335020617,
     "user": {
      "displayName": "Marcelo José Rovai",
      "photoUrl": "https://lh3.googleusercontent.com/a-/AOh14GhPvH_StPBhTERI1L0_qJsWCe1NDJFhrvdNWsZ1=s64",
      "userId": "17149450504426282540"
     },
     "user_tz": 180
    },
    "id": "vpdU7AZbT0YJ",
    "outputId": "cbf03ff9-a745-4e39-c33f-b2d809f5a1d0"
   },
   "outputs": [
    {
     "ename": "NameError",
     "evalue": "name 'history' is not defined",
     "output_type": "error",
     "traceback": [
      "\u001b[1;31m---------------------------------------------------------------------------\u001b[0m",
      "\u001b[1;31mNameError\u001b[0m                                 Traceback (most recent call last)",
      "Cell \u001b[1;32mIn[1], line 2\u001b[0m\n\u001b[0;32m      1\u001b[0m \u001b[38;5;28;01mimport\u001b[39;00m \u001b[38;5;21;01mmatplotlib\u001b[39;00m\u001b[38;5;21;01m.\u001b[39;00m\u001b[38;5;21;01mpyplot\u001b[39;00m \u001b[38;5;28;01mas\u001b[39;00m \u001b[38;5;21;01mplt\u001b[39;00m\n\u001b[1;32m----> 2\u001b[0m plt\u001b[38;5;241m.\u001b[39mplot(\u001b[43mhistory\u001b[49m\u001b[38;5;241m.\u001b[39mhistory[\u001b[38;5;124m'\u001b[39m\u001b[38;5;124mloss\u001b[39m\u001b[38;5;124m'\u001b[39m])\n\u001b[0;32m      3\u001b[0m plt\u001b[38;5;241m.\u001b[39mtitle(\u001b[38;5;124m'\u001b[39m\u001b[38;5;124mmodel loss\u001b[39m\u001b[38;5;124m'\u001b[39m)\n\u001b[0;32m      4\u001b[0m plt\u001b[38;5;241m.\u001b[39mylabel(\u001b[38;5;124m'\u001b[39m\u001b[38;5;124mloss\u001b[39m\u001b[38;5;124m'\u001b[39m)\n",
      "\u001b[1;31mNameError\u001b[0m: name 'history' is not defined"
     ]
    }
   ],
   "source": [
    "import matplotlib.pyplot as plt\n",
    "plt.plot(history.history['loss'])\n",
    "plt.title('model loss')\n",
    "plt.ylabel('loss')\n",
    "plt.xlabel('epoch')\n",
    "plt.legend(['train'], loc='upper right')\n",
    "plt.show()"
   ]
  },
  {
   "cell_type": "code",
   "execution_count": null,
   "metadata": {},
   "outputs": [],
   "source": []
  }
 ],
 "metadata": {
  "colab": {
   "name": "TF_First_Neural_Network.ipynb",
   "provenance": []
  },
  "kernelspec": {
   "display_name": "Python 3 (ipykernel)",
   "language": "python",
   "name": "python3"
  },
  "language_info": {
   "codemirror_mode": {
    "name": "ipython",
    "version": 3
   },
   "file_extension": ".py",
   "mimetype": "text/x-python",
   "name": "python",
   "nbconvert_exporter": "python",
   "pygments_lexer": "ipython3",
   "version": "3.10.0"
  }
 },
 "nbformat": 4,
 "nbformat_minor": 1
}
